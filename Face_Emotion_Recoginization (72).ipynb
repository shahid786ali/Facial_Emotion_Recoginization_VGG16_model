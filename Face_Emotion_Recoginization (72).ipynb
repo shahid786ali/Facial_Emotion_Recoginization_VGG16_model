{
  "cells": [
    {
      "cell_type": "code",
      "execution_count": null,
      "metadata": {
        "id": "jMCTG-3fkEGk"
      },
      "outputs": [],
      "source": [
        "#!7za -y x \"/content/drive/MyDrive/Data_Science_Project/Module_Project_CNN/data/image\""
      ]
    },
    {
      "cell_type": "code",
      "execution_count": null,
      "metadata": {
        "id": "h0KvpYMBlkAf"
      },
      "outputs": [],
      "source": [
        "\n",
        "#!cp -r ./origin \"/content/drive/MyDrive/Data_Science_Project/Module_Project_CNN/origin.7z*\""
      ]
    },
    {
      "cell_type": "code",
      "execution_count": 1,
      "metadata": {
        "id": "qyQiUkVWquCZ"
      },
      "outputs": [],
      "source": [
        "label_file_path=r\"/content/drive/MyDrive/Data_Science_Project/Module_Project_CNN/data/label/label.lst\"\n",
        "images_folder_path=r\"/content/drive/MyDrive/Data_Science_Project/Module_Project_CNN/origin.7z*\""
      ]
    },
    {
      "cell_type": "code",
      "execution_count": null,
      "metadata": {
        "id": "CKdid6LKwURs"
      },
      "outputs": [],
      "source": [
        "#import os\n",
        "#len(os.listdir(\"/content/drive/MyDrive/Data_Science_Project/Module_Project_CNN/data/image*\"))"
      ]
    },
    {
      "cell_type": "code",
      "execution_count": 2,
      "metadata": {
        "colab": {
          "base_uri": "https://localhost:8080/",
          "height": 206
        },
        "id": "5qB3T1mCrbf9",
        "outputId": "029a6b0f-e23f-416f-e5c7-1b316569c5f6"
      },
      "outputs": [
        {
          "output_type": "execute_result",
          "data": {
            "text/plain": [
              "            image_name  face_id_in_image  face_box_top  face_box_left  \\\n",
              "0  angry_actor_104.jpg                 0            28            113   \n",
              "1  angry_actor_109.jpg                 0            31            157   \n",
              "2  angry_actor_120.jpg                 1            53             53   \n",
              "3   angry_actor_13.jpg                 0            77             51   \n",
              "4  angry_actor_132.jpg                 0            95             31   \n",
              "\n",
              "   face_box_right  face_box_bottom  face_box_cofidence  expression_label  \n",
              "0             226              141             22.9362                 0  \n",
              "1             345              219             50.3056                 0  \n",
              "2             372              372             13.9434                 2  \n",
              "3             362              388             85.8104                 3  \n",
              "4             412              476             82.3948                 0  "
            ],
            "text/html": [
              "\n",
              "\n",
              "  <div id=\"df-7687269f-bc04-490e-bd1b-a30e71f80c94\">\n",
              "    <div class=\"colab-df-container\">\n",
              "      <div>\n",
              "<style scoped>\n",
              "    .dataframe tbody tr th:only-of-type {\n",
              "        vertical-align: middle;\n",
              "    }\n",
              "\n",
              "    .dataframe tbody tr th {\n",
              "        vertical-align: top;\n",
              "    }\n",
              "\n",
              "    .dataframe thead th {\n",
              "        text-align: right;\n",
              "    }\n",
              "</style>\n",
              "<table border=\"1\" class=\"dataframe\">\n",
              "  <thead>\n",
              "    <tr style=\"text-align: right;\">\n",
              "      <th></th>\n",
              "      <th>image_name</th>\n",
              "      <th>face_id_in_image</th>\n",
              "      <th>face_box_top</th>\n",
              "      <th>face_box_left</th>\n",
              "      <th>face_box_right</th>\n",
              "      <th>face_box_bottom</th>\n",
              "      <th>face_box_cofidence</th>\n",
              "      <th>expression_label</th>\n",
              "    </tr>\n",
              "  </thead>\n",
              "  <tbody>\n",
              "    <tr>\n",
              "      <th>0</th>\n",
              "      <td>angry_actor_104.jpg</td>\n",
              "      <td>0</td>\n",
              "      <td>28</td>\n",
              "      <td>113</td>\n",
              "      <td>226</td>\n",
              "      <td>141</td>\n",
              "      <td>22.9362</td>\n",
              "      <td>0</td>\n",
              "    </tr>\n",
              "    <tr>\n",
              "      <th>1</th>\n",
              "      <td>angry_actor_109.jpg</td>\n",
              "      <td>0</td>\n",
              "      <td>31</td>\n",
              "      <td>157</td>\n",
              "      <td>345</td>\n",
              "      <td>219</td>\n",
              "      <td>50.3056</td>\n",
              "      <td>0</td>\n",
              "    </tr>\n",
              "    <tr>\n",
              "      <th>2</th>\n",
              "      <td>angry_actor_120.jpg</td>\n",
              "      <td>1</td>\n",
              "      <td>53</td>\n",
              "      <td>53</td>\n",
              "      <td>372</td>\n",
              "      <td>372</td>\n",
              "      <td>13.9434</td>\n",
              "      <td>2</td>\n",
              "    </tr>\n",
              "    <tr>\n",
              "      <th>3</th>\n",
              "      <td>angry_actor_13.jpg</td>\n",
              "      <td>0</td>\n",
              "      <td>77</td>\n",
              "      <td>51</td>\n",
              "      <td>362</td>\n",
              "      <td>388</td>\n",
              "      <td>85.8104</td>\n",
              "      <td>3</td>\n",
              "    </tr>\n",
              "    <tr>\n",
              "      <th>4</th>\n",
              "      <td>angry_actor_132.jpg</td>\n",
              "      <td>0</td>\n",
              "      <td>95</td>\n",
              "      <td>31</td>\n",
              "      <td>412</td>\n",
              "      <td>476</td>\n",
              "      <td>82.3948</td>\n",
              "      <td>0</td>\n",
              "    </tr>\n",
              "  </tbody>\n",
              "</table>\n",
              "</div>\n",
              "      <button class=\"colab-df-convert\" onclick=\"convertToInteractive('df-7687269f-bc04-490e-bd1b-a30e71f80c94')\"\n",
              "              title=\"Convert this dataframe to an interactive table.\"\n",
              "              style=\"display:none;\">\n",
              "\n",
              "  <svg xmlns=\"http://www.w3.org/2000/svg\" height=\"24px\"viewBox=\"0 0 24 24\"\n",
              "       width=\"24px\">\n",
              "    <path d=\"M0 0h24v24H0V0z\" fill=\"none\"/>\n",
              "    <path d=\"M18.56 5.44l.94 2.06.94-2.06 2.06-.94-2.06-.94-.94-2.06-.94 2.06-2.06.94zm-11 1L8.5 8.5l.94-2.06 2.06-.94-2.06-.94L8.5 2.5l-.94 2.06-2.06.94zm10 10l.94 2.06.94-2.06 2.06-.94-2.06-.94-.94-2.06-.94 2.06-2.06.94z\"/><path d=\"M17.41 7.96l-1.37-1.37c-.4-.4-.92-.59-1.43-.59-.52 0-1.04.2-1.43.59L10.3 9.45l-7.72 7.72c-.78.78-.78 2.05 0 2.83L4 21.41c.39.39.9.59 1.41.59.51 0 1.02-.2 1.41-.59l7.78-7.78 2.81-2.81c.8-.78.8-2.07 0-2.86zM5.41 20L4 18.59l7.72-7.72 1.47 1.35L5.41 20z\"/>\n",
              "  </svg>\n",
              "      </button>\n",
              "\n",
              "\n",
              "\n",
              "    <div id=\"df-fd03c4b1-6f5c-4dc7-943c-3f59f80e1a6d\">\n",
              "      <button class=\"colab-df-quickchart\" onclick=\"quickchart('df-fd03c4b1-6f5c-4dc7-943c-3f59f80e1a6d')\"\n",
              "              title=\"Suggest charts.\"\n",
              "              style=\"display:none;\">\n",
              "\n",
              "<svg xmlns=\"http://www.w3.org/2000/svg\" height=\"24px\"viewBox=\"0 0 24 24\"\n",
              "     width=\"24px\">\n",
              "    <g>\n",
              "        <path d=\"M19 3H5c-1.1 0-2 .9-2 2v14c0 1.1.9 2 2 2h14c1.1 0 2-.9 2-2V5c0-1.1-.9-2-2-2zM9 17H7v-7h2v7zm4 0h-2V7h2v10zm4 0h-2v-4h2v4z\"/>\n",
              "    </g>\n",
              "</svg>\n",
              "      </button>\n",
              "    </div>\n",
              "\n",
              "<style>\n",
              "  .colab-df-quickchart {\n",
              "    background-color: #E8F0FE;\n",
              "    border: none;\n",
              "    border-radius: 50%;\n",
              "    cursor: pointer;\n",
              "    display: none;\n",
              "    fill: #1967D2;\n",
              "    height: 32px;\n",
              "    padding: 0 0 0 0;\n",
              "    width: 32px;\n",
              "  }\n",
              "\n",
              "  .colab-df-quickchart:hover {\n",
              "    background-color: #E2EBFA;\n",
              "    box-shadow: 0px 1px 2px rgba(60, 64, 67, 0.3), 0px 1px 3px 1px rgba(60, 64, 67, 0.15);\n",
              "    fill: #174EA6;\n",
              "  }\n",
              "\n",
              "  [theme=dark] .colab-df-quickchart {\n",
              "    background-color: #3B4455;\n",
              "    fill: #D2E3FC;\n",
              "  }\n",
              "\n",
              "  [theme=dark] .colab-df-quickchart:hover {\n",
              "    background-color: #434B5C;\n",
              "    box-shadow: 0px 1px 3px 1px rgba(0, 0, 0, 0.15);\n",
              "    filter: drop-shadow(0px 1px 2px rgba(0, 0, 0, 0.3));\n",
              "    fill: #FFFFFF;\n",
              "  }\n",
              "</style>\n",
              "\n",
              "    <script>\n",
              "      async function quickchart(key) {\n",
              "        const containerElement = document.querySelector('#' + key);\n",
              "        const charts = await google.colab.kernel.invokeFunction(\n",
              "            'suggestCharts', [key], {});\n",
              "      }\n",
              "    </script>\n",
              "\n",
              "      <script>\n",
              "\n",
              "function displayQuickchartButton(domScope) {\n",
              "  let quickchartButtonEl =\n",
              "    domScope.querySelector('#df-fd03c4b1-6f5c-4dc7-943c-3f59f80e1a6d button.colab-df-quickchart');\n",
              "  quickchartButtonEl.style.display =\n",
              "    google.colab.kernel.accessAllowed ? 'block' : 'none';\n",
              "}\n",
              "\n",
              "        displayQuickchartButton(document);\n",
              "      </script>\n",
              "      <style>\n",
              "    .colab-df-container {\n",
              "      display:flex;\n",
              "      flex-wrap:wrap;\n",
              "      gap: 12px;\n",
              "    }\n",
              "\n",
              "    .colab-df-convert {\n",
              "      background-color: #E8F0FE;\n",
              "      border: none;\n",
              "      border-radius: 50%;\n",
              "      cursor: pointer;\n",
              "      display: none;\n",
              "      fill: #1967D2;\n",
              "      height: 32px;\n",
              "      padding: 0 0 0 0;\n",
              "      width: 32px;\n",
              "    }\n",
              "\n",
              "    .colab-df-convert:hover {\n",
              "      background-color: #E2EBFA;\n",
              "      box-shadow: 0px 1px 2px rgba(60, 64, 67, 0.3), 0px 1px 3px 1px rgba(60, 64, 67, 0.15);\n",
              "      fill: #174EA6;\n",
              "    }\n",
              "\n",
              "    [theme=dark] .colab-df-convert {\n",
              "      background-color: #3B4455;\n",
              "      fill: #D2E3FC;\n",
              "    }\n",
              "\n",
              "    [theme=dark] .colab-df-convert:hover {\n",
              "      background-color: #434B5C;\n",
              "      box-shadow: 0px 1px 3px 1px rgba(0, 0, 0, 0.15);\n",
              "      filter: drop-shadow(0px 1px 2px rgba(0, 0, 0, 0.3));\n",
              "      fill: #FFFFFF;\n",
              "    }\n",
              "  </style>\n",
              "\n",
              "      <script>\n",
              "        const buttonEl =\n",
              "          document.querySelector('#df-7687269f-bc04-490e-bd1b-a30e71f80c94 button.colab-df-convert');\n",
              "        buttonEl.style.display =\n",
              "          google.colab.kernel.accessAllowed ? 'block' : 'none';\n",
              "\n",
              "        async function convertToInteractive(key) {\n",
              "          const element = document.querySelector('#df-7687269f-bc04-490e-bd1b-a30e71f80c94');\n",
              "          const dataTable =\n",
              "            await google.colab.kernel.invokeFunction('convertToInteractive',\n",
              "                                                     [key], {});\n",
              "          if (!dataTable) return;\n",
              "\n",
              "          const docLinkHtml = 'Like what you see? Visit the ' +\n",
              "            '<a target=\"_blank\" href=https://colab.research.google.com/notebooks/data_table.ipynb>data table notebook</a>'\n",
              "            + ' to learn more about interactive tables.';\n",
              "          element.innerHTML = '';\n",
              "          dataTable['output_type'] = 'display_data';\n",
              "          await google.colab.output.renderOutput(dataTable, element);\n",
              "          const docLink = document.createElement('div');\n",
              "          docLink.innerHTML = docLinkHtml;\n",
              "          element.appendChild(docLink);\n",
              "        }\n",
              "      </script>\n",
              "    </div>\n",
              "  </div>\n"
            ]
          },
          "metadata": {},
          "execution_count": 2
        }
      ],
      "source": [
        "import pandas as pd\n",
        "df_info=pd.read_csv(label_file_path, sep=\" \",header=None)\n",
        "df_info.columns=['image_name','face_id_in_image','face_box_top','face_box_left','face_box_right','face_box_bottom','face_box_cofidence','expression_label']\n",
        "df_info.head()"
      ]
    },
    {
      "cell_type": "code",
      "execution_count": 3,
      "metadata": {
        "colab": {
          "base_uri": "https://localhost:8080/"
        },
        "id": "L03w67xfHud7",
        "outputId": "02c125b8-63bf-44aa-c49d-5044a0ad0e22"
      },
      "outputs": [
        {
          "output_type": "execute_result",
          "data": {
            "text/plain": [
              "(91793, 8)"
            ]
          },
          "metadata": {},
          "execution_count": 3
        }
      ],
      "source": [
        "df_info.shape"
      ]
    },
    {
      "cell_type": "code",
      "execution_count": 4,
      "metadata": {
        "colab": {
          "base_uri": "https://localhost:8080/",
          "height": 269
        },
        "id": "gVKDNglsJjCP",
        "outputId": "443f1fcb-89e5-4561-99cb-2da043312db1"
      },
      "outputs": [
        {
          "output_type": "execute_result",
          "data": {
            "text/plain": [
              "  expression_label  number\n",
              "0            Angry    3671\n",
              "1             Fear    1088\n",
              "2            Happy   30537\n",
              "3          Neutral   34883\n",
              "4              Sad   10559\n",
              "5           Digust    3995\n",
              "6         Surprise    7060"
            ],
            "text/html": [
              "\n",
              "\n",
              "  <div id=\"df-edbb9971-2538-4ae8-a11c-87c3d0e1481c\">\n",
              "    <div class=\"colab-df-container\">\n",
              "      <div>\n",
              "<style scoped>\n",
              "    .dataframe tbody tr th:only-of-type {\n",
              "        vertical-align: middle;\n",
              "    }\n",
              "\n",
              "    .dataframe tbody tr th {\n",
              "        vertical-align: top;\n",
              "    }\n",
              "\n",
              "    .dataframe thead th {\n",
              "        text-align: right;\n",
              "    }\n",
              "</style>\n",
              "<table border=\"1\" class=\"dataframe\">\n",
              "  <thead>\n",
              "    <tr style=\"text-align: right;\">\n",
              "      <th></th>\n",
              "      <th>expression_label</th>\n",
              "      <th>number</th>\n",
              "    </tr>\n",
              "  </thead>\n",
              "  <tbody>\n",
              "    <tr>\n",
              "      <th>0</th>\n",
              "      <td>Angry</td>\n",
              "      <td>3671</td>\n",
              "    </tr>\n",
              "    <tr>\n",
              "      <th>1</th>\n",
              "      <td>Fear</td>\n",
              "      <td>1088</td>\n",
              "    </tr>\n",
              "    <tr>\n",
              "      <th>2</th>\n",
              "      <td>Happy</td>\n",
              "      <td>30537</td>\n",
              "    </tr>\n",
              "    <tr>\n",
              "      <th>3</th>\n",
              "      <td>Neutral</td>\n",
              "      <td>34883</td>\n",
              "    </tr>\n",
              "    <tr>\n",
              "      <th>4</th>\n",
              "      <td>Sad</td>\n",
              "      <td>10559</td>\n",
              "    </tr>\n",
              "    <tr>\n",
              "      <th>5</th>\n",
              "      <td>Digust</td>\n",
              "      <td>3995</td>\n",
              "    </tr>\n",
              "    <tr>\n",
              "      <th>6</th>\n",
              "      <td>Surprise</td>\n",
              "      <td>7060</td>\n",
              "    </tr>\n",
              "  </tbody>\n",
              "</table>\n",
              "</div>\n",
              "      <button class=\"colab-df-convert\" onclick=\"convertToInteractive('df-edbb9971-2538-4ae8-a11c-87c3d0e1481c')\"\n",
              "              title=\"Convert this dataframe to an interactive table.\"\n",
              "              style=\"display:none;\">\n",
              "\n",
              "  <svg xmlns=\"http://www.w3.org/2000/svg\" height=\"24px\"viewBox=\"0 0 24 24\"\n",
              "       width=\"24px\">\n",
              "    <path d=\"M0 0h24v24H0V0z\" fill=\"none\"/>\n",
              "    <path d=\"M18.56 5.44l.94 2.06.94-2.06 2.06-.94-2.06-.94-.94-2.06-.94 2.06-2.06.94zm-11 1L8.5 8.5l.94-2.06 2.06-.94-2.06-.94L8.5 2.5l-.94 2.06-2.06.94zm10 10l.94 2.06.94-2.06 2.06-.94-2.06-.94-.94-2.06-.94 2.06-2.06.94z\"/><path d=\"M17.41 7.96l-1.37-1.37c-.4-.4-.92-.59-1.43-.59-.52 0-1.04.2-1.43.59L10.3 9.45l-7.72 7.72c-.78.78-.78 2.05 0 2.83L4 21.41c.39.39.9.59 1.41.59.51 0 1.02-.2 1.41-.59l7.78-7.78 2.81-2.81c.8-.78.8-2.07 0-2.86zM5.41 20L4 18.59l7.72-7.72 1.47 1.35L5.41 20z\"/>\n",
              "  </svg>\n",
              "      </button>\n",
              "\n",
              "\n",
              "\n",
              "    <div id=\"df-dc0d267d-10ff-45e5-a748-f84c6c9def76\">\n",
              "      <button class=\"colab-df-quickchart\" onclick=\"quickchart('df-dc0d267d-10ff-45e5-a748-f84c6c9def76')\"\n",
              "              title=\"Suggest charts.\"\n",
              "              style=\"display:none;\">\n",
              "\n",
              "<svg xmlns=\"http://www.w3.org/2000/svg\" height=\"24px\"viewBox=\"0 0 24 24\"\n",
              "     width=\"24px\">\n",
              "    <g>\n",
              "        <path d=\"M19 3H5c-1.1 0-2 .9-2 2v14c0 1.1.9 2 2 2h14c1.1 0 2-.9 2-2V5c0-1.1-.9-2-2-2zM9 17H7v-7h2v7zm4 0h-2V7h2v10zm4 0h-2v-4h2v4z\"/>\n",
              "    </g>\n",
              "</svg>\n",
              "      </button>\n",
              "    </div>\n",
              "\n",
              "<style>\n",
              "  .colab-df-quickchart {\n",
              "    background-color: #E8F0FE;\n",
              "    border: none;\n",
              "    border-radius: 50%;\n",
              "    cursor: pointer;\n",
              "    display: none;\n",
              "    fill: #1967D2;\n",
              "    height: 32px;\n",
              "    padding: 0 0 0 0;\n",
              "    width: 32px;\n",
              "  }\n",
              "\n",
              "  .colab-df-quickchart:hover {\n",
              "    background-color: #E2EBFA;\n",
              "    box-shadow: 0px 1px 2px rgba(60, 64, 67, 0.3), 0px 1px 3px 1px rgba(60, 64, 67, 0.15);\n",
              "    fill: #174EA6;\n",
              "  }\n",
              "\n",
              "  [theme=dark] .colab-df-quickchart {\n",
              "    background-color: #3B4455;\n",
              "    fill: #D2E3FC;\n",
              "  }\n",
              "\n",
              "  [theme=dark] .colab-df-quickchart:hover {\n",
              "    background-color: #434B5C;\n",
              "    box-shadow: 0px 1px 3px 1px rgba(0, 0, 0, 0.15);\n",
              "    filter: drop-shadow(0px 1px 2px rgba(0, 0, 0, 0.3));\n",
              "    fill: #FFFFFF;\n",
              "  }\n",
              "</style>\n",
              "\n",
              "    <script>\n",
              "      async function quickchart(key) {\n",
              "        const containerElement = document.querySelector('#' + key);\n",
              "        const charts = await google.colab.kernel.invokeFunction(\n",
              "            'suggestCharts', [key], {});\n",
              "      }\n",
              "    </script>\n",
              "\n",
              "      <script>\n",
              "\n",
              "function displayQuickchartButton(domScope) {\n",
              "  let quickchartButtonEl =\n",
              "    domScope.querySelector('#df-dc0d267d-10ff-45e5-a748-f84c6c9def76 button.colab-df-quickchart');\n",
              "  quickchartButtonEl.style.display =\n",
              "    google.colab.kernel.accessAllowed ? 'block' : 'none';\n",
              "}\n",
              "\n",
              "        displayQuickchartButton(document);\n",
              "      </script>\n",
              "      <style>\n",
              "    .colab-df-container {\n",
              "      display:flex;\n",
              "      flex-wrap:wrap;\n",
              "      gap: 12px;\n",
              "    }\n",
              "\n",
              "    .colab-df-convert {\n",
              "      background-color: #E8F0FE;\n",
              "      border: none;\n",
              "      border-radius: 50%;\n",
              "      cursor: pointer;\n",
              "      display: none;\n",
              "      fill: #1967D2;\n",
              "      height: 32px;\n",
              "      padding: 0 0 0 0;\n",
              "      width: 32px;\n",
              "    }\n",
              "\n",
              "    .colab-df-convert:hover {\n",
              "      background-color: #E2EBFA;\n",
              "      box-shadow: 0px 1px 2px rgba(60, 64, 67, 0.3), 0px 1px 3px 1px rgba(60, 64, 67, 0.15);\n",
              "      fill: #174EA6;\n",
              "    }\n",
              "\n",
              "    [theme=dark] .colab-df-convert {\n",
              "      background-color: #3B4455;\n",
              "      fill: #D2E3FC;\n",
              "    }\n",
              "\n",
              "    [theme=dark] .colab-df-convert:hover {\n",
              "      background-color: #434B5C;\n",
              "      box-shadow: 0px 1px 3px 1px rgba(0, 0, 0, 0.15);\n",
              "      filter: drop-shadow(0px 1px 2px rgba(0, 0, 0, 0.3));\n",
              "      fill: #FFFFFF;\n",
              "    }\n",
              "  </style>\n",
              "\n",
              "      <script>\n",
              "        const buttonEl =\n",
              "          document.querySelector('#df-edbb9971-2538-4ae8-a11c-87c3d0e1481c button.colab-df-convert');\n",
              "        buttonEl.style.display =\n",
              "          google.colab.kernel.accessAllowed ? 'block' : 'none';\n",
              "\n",
              "        async function convertToInteractive(key) {\n",
              "          const element = document.querySelector('#df-edbb9971-2538-4ae8-a11c-87c3d0e1481c');\n",
              "          const dataTable =\n",
              "            await google.colab.kernel.invokeFunction('convertToInteractive',\n",
              "                                                     [key], {});\n",
              "          if (!dataTable) return;\n",
              "\n",
              "          const docLinkHtml = 'Like what you see? Visit the ' +\n",
              "            '<a target=\"_blank\" href=https://colab.research.google.com/notebooks/data_table.ipynb>data table notebook</a>'\n",
              "            + ' to learn more about interactive tables.';\n",
              "          element.innerHTML = '';\n",
              "          dataTable['output_type'] = 'display_data';\n",
              "          await google.colab.output.renderOutput(dataTable, element);\n",
              "          const docLink = document.createElement('div');\n",
              "          docLink.innerHTML = docLinkHtml;\n",
              "          element.appendChild(docLink);\n",
              "        }\n",
              "      </script>\n",
              "    </div>\n",
              "  </div>\n"
            ]
          },
          "metadata": {},
          "execution_count": 4
        }
      ],
      "source": [
        "#check target labels\n",
        "emotion_map = {0: 'Angry', 1: 'Digust', 2: 'Fear', 3: 'Happy', 4: 'Sad', 5: 'Surprise', 6: 'Neutral'}\n",
        "emotion_counts = df_info['expression_label'].value_counts(sort=False).reset_index()\n",
        "emotion_counts.columns = ['expression_label', 'number']\n",
        "emotion_counts['expression_label'] = emotion_counts['expression_label'].map(emotion_map)\n",
        "emotion_counts"
      ]
    },
    {
      "cell_type": "code",
      "execution_count": 5,
      "metadata": {
        "id": "s9DPkxqQK3Hg"
      },
      "outputs": [],
      "source": [
        "import matplotlib.pyplot as plt\n",
        "import seaborn as sns\n",
        "\n"
      ]
    },
    {
      "cell_type": "code",
      "execution_count": 6,
      "metadata": {
        "colab": {
          "base_uri": "https://localhost:8080/",
          "height": 452
        },
        "id": "IAUQeQD6NC0t",
        "outputId": "d00f05f8-6d91-423b-ecfd-6ac66f008e1c"
      },
      "outputs": [
        {
          "output_type": "display_data",
          "data": {
            "text/plain": [
              "<Figure size 600x400 with 1 Axes>"
            ],
            "image/png": "[encoded data removed]"
          },
          "metadata": {}
        }
      ],
      "source": [
        "emotion_counts = pd.DataFrame(emotion_counts, columns=[\"expression_label\", \"number\"])\n",
        "plt.figure(figsize=(6, 4))\n",
        "plt.bar(emotion_counts.expression_label, emotion_counts.number)\n",
        "plt.title('Class distribution')\n",
        "plt.xlabel('Expression Label', fontsize=14)\n",
        "plt.ylabel('Number', fontsize=12)\n",
        "plt.xticks(rotation=45)  # To rotate the x-axis labels for better visibility\n",
        "plt.show()"
      ]
    },
    {
      "cell_type": "code",
      "execution_count": null,
      "metadata": {
        "colab": {
          "base_uri": "https://localhost:8080/"
        },
        "id": "kOrTBcNtJAVp",
        "outputId": "90332740-7921-49f5-81ec-f9c32aa0ff5f"
      },
      "outputs": [
        {
          "output_type": "execute_result",
          "data": {
            "text/plain": [
              "image_name                  face_id_in_image  face_box_top  face_box_left  face_box_right  face_box_bottom  face_box_cofidence  expression_label\n",
              "awe_teacher_108.jpg         1                 600           1524           1572            648              72.4882             3                   37\n",
              "astound_expression_400.jpg  3                 288           308            388             368              72.5160             3                   16\n",
              "awe_student_400.jpg         2                 664           388            436             712              82.8833             6                   13\n",
              "amazed_chinese_563.jpg      3                 652           1908           1956            700              56.7663             6                   12\n",
              "                            1                 176           576            624             224              57.5098             6                   12\n",
              "                                                                                                                                                    ..\n",
              "astound_family_168.jpg      0                 56            96             192             152              13.0458             6                    1\n",
              "astound_family_146.jpg      0                 28            103            215             140              26.7751             6                    1\n",
              "astound_family_140.jpg      0                 33            79             214             168              40.0862             6                    1\n",
              "astound_family_12.jpg       0                 76            204            252             124              70.9271             6                    1\n",
              "unhappy_expression_93.jpg   0                 127           190            571             508              80.9479             4                    1\n",
              "Length: 88600, dtype: int64"
            ]
          },
          "metadata": {},
          "execution_count": 6
        }
      ],
      "source": [
        "df_info.value_counts()"
      ]
    },
    {
      "cell_type": "code",
      "execution_count": 5,
      "metadata": {
        "colab": {
          "base_uri": "https://localhost:8080/"
        },
        "id": "IIA27XVFtVJo",
        "outputId": "c79695a1-04d2-4e23-9ad1-50b14a8078b9"
      },
      "outputs": [
        {
          "output_type": "execute_result",
          "data": {
            "text/plain": [
              "12127"
            ]
          },
          "metadata": {},
          "execution_count": 5
        }
      ],
      "source": [
        "df_sel=df_info[df_info.face_box_cofidence > 80]\n",
        "#print(df_sel)\n",
        "len(df_sel)\n"
      ]
    },
    {
      "cell_type": "code",
      "execution_count": null,
      "metadata": {
        "colab": {
          "base_uri": "https://localhost:8080/"
        },
        "id": "c3zyYNVstVKx",
        "outputId": "73ce322b-d538-43e2-ee31-3477042db3e1"
      },
      "outputs": [
        {
          "output_type": "execute_result",
          "data": {
            "text/plain": [
              "(12127, 8)"
            ]
          },
          "metadata": {},
          "execution_count": 8
        }
      ],
      "source": [
        "df_sel.shape"
      ]
    },
    {
      "cell_type": "code",
      "execution_count": null,
      "metadata": {
        "colab": {
          "base_uri": "https://localhost:8080/"
        },
        "id": "7WmVWZqOr2yl",
        "outputId": "74e45fa1-3d0b-4230-d58a-dd22d7c01e54"
      },
      "outputs": [
        {
          "output_type": "execute_result",
          "data": {
            "text/plain": [
              "Index(['image_name', 'face_id_in_image', 'face_box_top', 'face_box_left',\n",
              "       'face_box_right', 'face_box_bottom', 'face_box_cofidence',\n",
              "       'expression_label'],\n",
              "      dtype='object')"
            ]
          },
          "metadata": {},
          "execution_count": 9
        }
      ],
      "source": [
        "df_sel.columns"
      ]
    },
    {
      "cell_type": "code",
      "execution_count": null,
      "metadata": {
        "colab": {
          "base_uri": "https://localhost:8080/"
        },
        "id": "yy1C5_GotVLy",
        "outputId": "4ec4ed1d-831d-41a6-c70e-3d5d224bb332"
      },
      "outputs": [
        {
          "output_type": "execute_result",
          "data": {
            "text/plain": [
              "3                    angry_actor_13.jpg\n",
              "4                   angry_actor_132.jpg\n",
              "5                   angry_actor_137.jpg\n",
              "9                   angry_actor_150.jpg\n",
              "12                  angry_actor_161.jpg\n",
              "                      ...              \n",
              "91778       surprised_expression_37.jpg\n",
              "91780      surprised_expression_289.jpg\n",
              "91787    expressionless_husband_673.jpg\n",
              "91789      surprised_expression_381.jpg\n",
              "91790      surprised_expression_395.jpg\n",
              "Name: image_name, Length: 12127, dtype: object"
            ]
          },
          "metadata": {},
          "execution_count": 10
        }
      ],
      "source": [
        "df_sel.image_name"
      ]
    },
    {
      "cell_type": "code",
      "execution_count": 6,
      "metadata": {
        "id": "I0yewb9FO1CN"
      },
      "outputs": [],
      "source": [
        "import cv2\n",
        "import os\n",
        "import concurrent.futures\n",
        "\n",
        "x = []\n",
        "y = []\n",
        "\n",
        "def process_image(row):\n",
        "    img_name = row[\"image_name\"]\n",
        "    x1 = row[\"face_box_left\"]\n",
        "    y1 = row[\"face_box_top\"]\n",
        "    x2 = row[\"face_box_right\"]\n",
        "    y2 = row[\"face_box_bottom\"]\n",
        "    label = row[\"expression_label\"]\n",
        "    img_path = os.path.join(images_folder_path, img_name)\n",
        "\n",
        "    image = cv2.imread(img_path)\n",
        "\n",
        "    if image is not None:\n",
        "        cropped = image[y1:y2, x1:x2]\n",
        "    else:\n",
        "        return None, None\n",
        "\n",
        "    if cropped is not None:\n",
        "        resized_face = cv2.resize(cropped, (64, 64))\n",
        "    else:\n",
        "        return None, None\n",
        "\n",
        "    return resized_face, label\n",
        "\n",
        "# Function to process images in parallel\n",
        "def process_images_in_parallel(dataframe):\n",
        "    with concurrent.futures.ThreadPoolExecutor() as executor:\n",
        "        future_to_row = {executor.submit(process_image, row): row for i, row in dataframe.sample(12000).iterrows()}\n",
        "\n",
        "        for future in concurrent.futures.as_completed(future_to_row):\n",
        "            row = future_to_row[future]\n",
        "            resized_face, label = future.result()\n",
        "            if resized_face is not None:\n",
        "                x.append(resized_face)\n",
        "                y.append(label)\n",
        "\n",
        "# Call the function to process images in parallel\n",
        "process_images_in_parallel(df_sel)\n"
      ]
    },
    {
      "cell_type": "code",
      "execution_count": null,
      "metadata": {
        "id": "7kEMD2jr7NNY"
      },
      "outputs": [],
      "source": [
        "#print(x)\n",
        "#print(y)"
      ]
    },
    {
      "cell_type": "code",
      "execution_count": 7,
      "metadata": {
        "colab": {
          "base_uri": "https://localhost:8080/"
        },
        "id": "cue8meHJujjX",
        "outputId": "86a2fbb8-c388-401e-eb87-d23ccb75b486"
      },
      "outputs": [
        {
          "output_type": "execute_result",
          "data": {
            "text/plain": [
              "8847"
            ]
          },
          "metadata": {},
          "execution_count": 7
        }
      ],
      "source": [
        "len(x)"
      ]
    },
    {
      "cell_type": "code",
      "execution_count": null,
      "metadata": {
        "id": "NWEIRplCuE-X"
      },
      "outputs": [],
      "source": []
    },
    {
      "cell_type": "code",
      "execution_count": 8,
      "metadata": {
        "id": "0gFaB0sEaS-t"
      },
      "outputs": [],
      "source": [
        "#Data preparation\n",
        "import numpy as np\n",
        "X= np.array(x)\n",
        "y= np.array(y)\n"
      ]
    },
    {
      "cell_type": "code",
      "execution_count": 12,
      "metadata": {
        "colab": {
          "base_uri": "https://localhost:8080/"
        },
        "id": "598nqBSSVWn4",
        "outputId": "342c4a60-f56f-4aa8-a24b-6a40cda254a3"
      },
      "outputs": [
        {
          "output_type": "stream",
          "name": "stdout",
          "text": [
            "Epoch 1/10\n",
            "88/88 [==============================] - 5s 39ms/step - loss: 1.2033 - accuracy: 0.5889 - val_loss: 1.0692 - val_accuracy: 0.6300\n",
            "Epoch 2/10\n",
            "88/88 [==============================] - 2s 19ms/step - loss: 0.9965 - accuracy: 0.6504 - val_loss: 1.0884 - val_accuracy: 0.6371\n",
            "Epoch 3/10\n",
            "88/88 [==============================] - 2s 23ms/step - loss: 0.8912 - accuracy: 0.6911 - val_loss: 0.9895 - val_accuracy: 0.6500\n",
            "Epoch 4/10\n",
            "88/88 [==============================] - 2s 19ms/step - loss: 0.7908 - accuracy: 0.7232 - val_loss: 0.9357 - val_accuracy: 0.6600\n",
            "Epoch 5/10\n",
            "88/88 [==============================] - 2s 24ms/step - loss: 0.6655 - accuracy: 0.7682 - val_loss: 0.9306 - val_accuracy: 0.6800\n",
            "Epoch 6/10\n",
            "88/88 [==============================] - 2s 24ms/step - loss: 0.5709 - accuracy: 0.8068 - val_loss: 1.0371 - val_accuracy: 0.6714\n",
            "Epoch 7/10\n",
            "88/88 [==============================] - 2s 19ms/step - loss: 0.5045 - accuracy: 0.8382 - val_loss: 1.0223 - val_accuracy: 0.6814\n",
            "Epoch 8/10\n",
            "88/88 [==============================] - 2s 19ms/step - loss: 0.4076 - accuracy: 0.8611 - val_loss: 0.9944 - val_accuracy: 0.6986\n",
            "Epoch 9/10\n",
            "88/88 [==============================] - 2s 19ms/step - loss: 0.3331 - accuracy: 0.8939 - val_loss: 1.0399 - val_accuracy: 0.7357\n",
            "Epoch 10/10\n",
            "88/88 [==============================] - 2s 19ms/step - loss: 0.2456 - accuracy: 0.9175 - val_loss: 1.0328 - val_accuracy: 0.7243\n",
            "22/22 [==============================] - 0s 15ms/step - loss: 1.0328 - accuracy: 0.7243\n",
            "Test accuracy: 0.72\n"
          ]
        }
      ],
      "source": [
        "import numpy as np\n",
        "from sklearn.preprocessing import StandardScaler, LabelEncoder\n",
        "from sklearn.model_selection import train_test_split\n",
        "from tensorflow.keras.applications import VGG16\n",
        "from tensorflow.keras.layers import Dense, Flatten\n",
        "from tensorflow.keras.models import Model\n",
        "from tensorflow.keras.utils import to_categorical\n",
        "\n",
        "\n",
        "\n",
        "# Step 1: Normalization\n",
        "X_normalized = X / 255.0\n",
        "\n",
        "# Step 2: Sampling (optional)\n",
        "sample_size = 3500\n",
        "random_indices = np.random.choice(len(X_normalized), size=sample_size )\n",
        "X_sampled = X_normalized[random_indices]\n",
        "Y_sampled = y[random_indices]\n",
        "\n",
        "# Step 3: Encoding (for classification task)\n",
        "label_encoder = LabelEncoder()\n",
        "Y_encoded = label_encoder.fit_transform(Y_sampled)\n",
        "\n",
        "# Step 4: Train-Test Split\n",
        "X_train, X_test, Y_train, Y_test = train_test_split(X_sampled, Y_encoded, test_size=0.2, random_state=42)\n",
        "\n",
        "# Step 5: Load and Fine-tune VGG16 Model\n",
        "vgg16 = VGG16(weights='imagenet', include_top=False, input_shape=(64,64,3))\n",
        "\n",
        "# Freeze the layers so that they are not updated during training\n",
        "for layer in vgg16.layers:\n",
        "    layer.trainable = False\n",
        "\n",
        "# Add custom layers on top of VGG16 for classification\n",
        "x = Flatten()(vgg16.output)\n",
        "x = Dense(256, activation='relu')(x)\n",
        "x = Dense(128, activation='relu')(x)\n",
        "predictions = Dense(7, activation='softmax')(x)\n",
        "\n",
        "# Create the model\n",
        "model = Model(inputs=vgg16.input, outputs=predictions)\n",
        "\n",
        "# Compile the model\n",
        "model.compile(optimizer='adam', loss='sparse_categorical_crossentropy', metrics=['accuracy'])\n",
        "\n",
        "# Train the model\n",
        "model.fit(X_train, Y_train, batch_size=32, epochs=10, validation_data=(X_test, Y_test))\n",
        "\n",
        "# Calculate accuracy on test data\n",
        "loss, accuracy = model.evaluate(X_test, Y_test, batch_size=32)\n",
        "print(f\"Test accuracy: {accuracy:.2f}\")\n"
      ]
    },
    {
      "cell_type": "code",
      "execution_count": 13,
      "metadata": {
        "colab": {
          "base_uri": "https://localhost:8080/",
          "height": 1000
        },
        "id": "oKtYDnBmJMKu",
        "outputId": "9d7e00ba-6715-4bd3-954a-fc9f69e47cd7"
      },
      "outputs": [
        {
          "output_type": "stream",
          "name": "stdout",
          "text": [
            "Epoch 1/10\n",
            "88/88 [==============================] - 2s 25ms/step - loss: 0.1922 - accuracy: 0.9382 - val_loss: 1.1741 - val_accuracy: 0.7414\n",
            "Epoch 2/10\n",
            "88/88 [==============================] - 2s 21ms/step - loss: 0.1427 - accuracy: 0.9582 - val_loss: 1.2109 - val_accuracy: 0.7057\n",
            "Epoch 3/10\n",
            "88/88 [==============================] - 2s 24ms/step - loss: 0.1025 - accuracy: 0.9714 - val_loss: 1.2748 - val_accuracy: 0.7300\n",
            "Epoch 4/10\n",
            "88/88 [==============================] - 2s 23ms/step - loss: 0.0740 - accuracy: 0.9804 - val_loss: 1.2141 - val_accuracy: 0.7514\n",
            "Epoch 5/10\n",
            "88/88 [==============================] - 2s 23ms/step - loss: 0.0455 - accuracy: 0.9918 - val_loss: 1.3364 - val_accuracy: 0.7314\n",
            "Epoch 6/10\n",
            "88/88 [==============================] - 2s 19ms/step - loss: 0.0361 - accuracy: 0.9943 - val_loss: 1.4048 - val_accuracy: 0.7371\n",
            "Epoch 7/10\n",
            "88/88 [==============================] - 2s 23ms/step - loss: 0.0247 - accuracy: 0.9964 - val_loss: 1.4723 - val_accuracy: 0.7371\n",
            "Epoch 8/10\n",
            "88/88 [==============================] - 2s 24ms/step - loss: 0.0153 - accuracy: 0.9993 - val_loss: 1.4715 - val_accuracy: 0.7443\n",
            "Epoch 9/10\n",
            "88/88 [==============================] - 2s 24ms/step - loss: 0.0122 - accuracy: 0.9993 - val_loss: 1.4981 - val_accuracy: 0.7486\n",
            "Epoch 10/10\n",
            "88/88 [==============================] - 2s 20ms/step - loss: 0.0067 - accuracy: 0.9996 - val_loss: 1.4806 - val_accuracy: 0.7500\n"
          ]
        },
        {
          "output_type": "display_data",
          "data": {
            "text/plain": [
              "<Figure size 800x600 with 1 Axes>"
            ],
            "image/png": "[encoded data removed]"
          },
          "metadata": {}
        },
        {
          "output_type": "display_data",
          "data": {
            "text/plain": [
              "<Figure size 800x600 with 1 Axes>"
            ],
            "image/png": "[encoded data removed]"
          },
          "metadata": {}
        }
      ],
      "source": [
        "import matplotlib.pyplot as plt\n",
        "\n",
        "# Train the model and store training history\n",
        "history = model.fit(X_train, Y_train, batch_size=32, epochs=10, validation_data=(X_test, Y_test))\n",
        "\n",
        "# Get training and validation loss and accuracy from the history object\n",
        "train_loss = history.history['loss']\n",
        "val_loss = history.history['val_loss']\n",
        "train_accuracy = history.history['accuracy']\n",
        "val_accuracy = history.history['val_accuracy']\n",
        "\n",
        "# Plot the Loss vs. Epoch graph\n",
        "plt.figure(figsize=(8, 6))\n",
        "plt.plot(range(1, len(train_loss) + 1), train_loss, label='Training Loss')\n",
        "plt.plot(range(1, len(val_loss) + 1), val_loss, label='Validation Loss')\n",
        "plt.xlabel('Epoch')\n",
        "plt.ylabel('Loss')\n",
        "plt.title('Training and Validation Loss vs. Epoch')\n",
        "plt.legend()\n",
        "plt.show()\n",
        "\n",
        "# Plot the Accuracy vs. Epoch graph\n",
        "plt.figure(figsize=(8, 6))\n",
        "plt.plot(range(1, len(train_accuracy) + 1), train_accuracy, label='Training Accuracy')\n",
        "plt.plot(range(1, len(val_accuracy) + 1), val_accuracy, label='Validation Accuracy')\n",
        "plt.xlabel('Epoch')\n",
        "plt.ylabel('Accuracy')\n",
        "plt.title('Training and Validation Accuracy vs. Epoch')\n",
        "plt.legend()\n",
        "plt.show()\n"
      ]
    }
  ],
  "metadata": {
    "accelerator": "GPU",
    "colab": {
      "provenance": []
    },
    "kernelspec": {
      "display_name": "Python 3",
      "name": "python3"
    },
    "language_info": {
      "name": "python"
    }
  },
  "nbformat": 4,
  "nbformat_minor": 0
}